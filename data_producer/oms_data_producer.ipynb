{
 "cells": [
  {
   "cell_type": "code",
   "execution_count": 2,
   "metadata": {
    "collapsed": true,
    "ExecuteTime": {
     "end_time": "2023-07-05T20:28:09.035258300Z",
     "start_time": "2023-07-05T20:28:07.457380600Z"
    }
   },
   "outputs": [],
   "source": [
    "import cv2\n",
    "import numpy as np\n",
    "from tqdm import notebook\n",
    "import skvideo.io"
   ]
  },
  {
   "cell_type": "code",
   "execution_count": 3,
   "outputs": [],
   "source": [
    "height = 512\n",
    "width = 512\n",
    "frames = 600\n",
    "fps = 120\n",
    "seconds = np.ceil(frames/fps).astype(int)\n",
    "col_width = 20\n",
    "object_radius = 18"
   ],
   "metadata": {
    "collapsed": false,
    "ExecuteTime": {
     "end_time": "2023-07-05T20:28:09.040425100Z",
     "start_time": "2023-07-05T20:28:09.037257Z"
    }
   }
  },
  {
   "cell_type": "code",
   "execution_count": 4,
   "outputs": [
    {
     "data": {
      "text/plain": "writing video:   0%|          | 0/600 [00:00<?, ?it/s]",
      "application/vnd.jupyter.widget-view+json": {
       "version_major": 2,
       "version_minor": 0,
       "model_id": "b0e2ae84b1b349c2972eb9e4fbfb99b7"
      }
     },
     "metadata": {},
     "output_type": "display_data"
    },
    {
     "name": "stdout",
     "output_type": "stream",
     "text": [
      "C:\\ffmpeg\\bin/ffmpeg.exe -y -r 120 -pix_fmt gray -f rawvideo -s 512x512 -i - -vcodec libx264 -pix_fmt gray -r 120 C:\\Users\\Arya\\workspace\\ObjectMotionSensitivity\\data_producer\\oms_ref_data_1.mp4\n"
     ]
    }
   ],
   "source": [
    "video_frames = np.zeros(shape=(fps * seconds, height, width), dtype=np.int32)\n",
    "placeholder = np.zeros(shape=(512 + fps * seconds, height, width), dtype=np.int32)\n",
    "\n",
    "# path = cv2.circle(np.zeros((height, width)), (256, 256), radius=200, color=(255,255,255))\n",
    "\n",
    "# discreet path along circle of radius 10\n",
    "# all these extra numbers are for transformations that make the circle centered and line up and such\n",
    "path_indices = (\n",
    "    np.rint(np.linspace(156, 356, 300)).astype(int),\n",
    "    np.rint(np.sqrt(100**2 - (np.linspace(156, 356, 300) -256)**2) + 256).astype(int)\n",
    ")\n",
    "path_indices_2 = (\n",
    "    np.rint(np.linspace(156, 356, 300)).astype(int),\n",
    "    (-1 * np.rint(np.sqrt(100**2 - ((np.linspace(156, 356, 300)) -256)**2)).astype(int)) + 256\n",
    ")\n",
    "\n",
    "\n",
    "# 600 frames at 120 fps is 5 seconds of video\n",
    "populated = False # set to true when the first column reaches the other side\n",
    "counter = 0\n",
    "\n",
    "# 512 is to account for the time for the first column to reach other side\n",
    "for i in range(512 + fps * seconds):\n",
    "\n",
    "    # set counter to 0 every 16 frames\n",
    "    if i % 8 == 0 and counter != 8 and counter != 0:\n",
    "        counter = 0\n",
    "\n",
    "    # every 16 frames create a column\n",
    "    if counter < 8:\n",
    "        placeholder[i, :, 0] = 255\n",
    "\n",
    "    # for each column of 255, move it over 1 frame\n",
    "    if i > 0:\n",
    "        # video_frames[i-1] is the previous frame\n",
    "        indices = np.where(placeholder[i-1] == 255)\n",
    "\n",
    "        # indices[1] is the column indices there are 265 repeats for each column,\n",
    "        # therefore we use a set to remove duplicates\n",
    "        cols = set(indices[1])\n",
    "        cols = sorted(list(cols))\n",
    "\n",
    "        # j is the column\n",
    "        for j in range(len(cols)):\n",
    "            col = cols[j]\n",
    "\n",
    "            # erases from the tail end of the column\n",
    "            # if the column, 8 to the left of the current column, is also a white column, remove it\n",
    "            if col - 7 in cols and col-6 in cols:\n",
    "                placeholder[i, :, col-7] = 0\n",
    "\n",
    "            # re-add the intermediate parts of the column\n",
    "            placeholder[i, :, col] = 255\n",
    "\n",
    "            # as long as the column is not the last one, add another column next to it\n",
    "            if col < width-1:\n",
    "                placeholder[i, :, col+1] = 255\n",
    "            else:\n",
    "                if not populated:\n",
    "                    populated = True\n",
    "                    # print(i)\n",
    "\n",
    "    counter += 1\n",
    "# print(path_indices[0])\n",
    "# print(path_indices[1])\n",
    "# print((len(path_indices[0])))\n",
    "\n",
    "video_frames = placeholder[512:fps*seconds+512]\n",
    "\n",
    "\n",
    "\n",
    "for x, y, x_2, y_2, frame in zip(path_indices[0], path_indices[1], path_indices_2[0][::-1], path_indices_2[1][::-1], range(int(frames/2))):\n",
    "    # print(f\"{x}, {y}\")\n",
    "    # creates a rectangle at the current position\n",
    "    video_frames[frame] = cv2.rectangle(video_frames[frame], (x-object_radius, int(y+object_radius)), (x+object_radius, int(y-object_radius)), (128,128,128), -1)\n",
    "\n",
    "    # every iteration it also puts the square where it should be in the second half of the video\n",
    "    video_frames[frame+int(frames/2)] = cv2.rectangle(video_frames[frame+int(frames/2)], (x_2-object_radius, int(y_2+object_radius)), (x_2+object_radius, int(y_2-object_radius)), (128,128,128), -1)\n",
    "\n",
    "# Write to video file\n",
    "outputfile = r\"C:\\Users\\Arya\\workspace\\ObjectMotionSensitivity\\data_producer\\oms_ref_data_1.mp4\"\n",
    "writer = skvideo.io.FFmpegWriter(outputfile, inputdict={\"-r\": str(fps), '-pix_fmt': \"gray\"}, outputdict={'-vcodec': 'libx264', '-pix_fmt': \"gray\",  '-r': str(fps)}, verbosity=1)\n",
    "\n",
    "for i in notebook.tqdm(range(video_frames.shape[0]), desc=\"writing video\"):\n",
    "    # final_frame = Image.fromarray(video_frames)\n",
    "    writer.writeFrame(video_frames[i])\n",
    "\n",
    "writer.close()"
   ],
   "metadata": {
    "collapsed": false,
    "ExecuteTime": {
     "end_time": "2023-07-05T20:28:10.971670200Z",
     "start_time": "2023-07-05T20:28:09.180875900Z"
    }
   }
  },
  {
   "cell_type": "markdown",
   "source": [],
   "metadata": {
    "collapsed": false
   }
  },
  {
   "cell_type": "code",
   "execution_count": 12,
   "outputs": [
    {
     "data": {
      "text/plain": "<Figure size 640x480 with 1 Axes>",
      "image/png": "[encoded data removed]"
     },
     "metadata": {},
     "output_type": "display_data"
    }
   ],
   "source": [
    "test_frame = np.zeros((512, 512), dtype = np.int32)\n",
    "\n",
    "# test_frame[path_indices[0], path_indices[1]] = 255\n",
    "test_frame[path_indices_2[0], path_indices_2[1]] = 255\n",
    "# test_frame[test_frame>0]=255\n",
    "x = path_indices_2[0]\n",
    "y = path_indices_2[1]\n",
    "# test_frame = cv2.rectangle(test_frame, (x-8, int(y+8)), (x+8, int(y-8)), (255,255,255), -1)\n",
    "\n",
    "import matplotlib.pyplot as plt\n",
    "\n",
    "plt.imshow(test_frame, cmap=\"gray\")\n",
    "plt.show()"
   ],
   "metadata": {
    "collapsed": false,
    "ExecuteTime": {
     "end_time": "2023-07-05T19:12:22.883197500Z",
     "start_time": "2023-07-05T19:12:22.781239600Z"
    }
   }
  },
  {
   "cell_type": "code",
   "execution_count": 9,
   "outputs": [
    {
     "name": "stdout",
     "output_type": "stream",
     "text": [
      "\n",
      "General configuration for OpenCV 4.7.0 =====================================\n",
      "  Version control:               4.7.0\n",
      "\n",
      "  Platform:\n",
      "    Timestamp:                   2023-02-22T13:19:52Z\n",
      "    Host:                        Windows 10.0.17763 AMD64\n",
      "    CMake:                       3.24.2\n",
      "    CMake generator:             Visual Studio 14 2015\n",
      "    CMake build tool:            MSBuild.exe\n",
      "    MSVC:                        1900\n",
      "    Configuration:               Debug Release\n",
      "\n",
      "  CPU/HW features:\n",
      "    Baseline:                    SSE SSE2 SSE3\n",
      "      requested:                 SSE3\n",
      "    Dispatched code generation:  SSE4_1 SSE4_2 FP16 AVX AVX2\n",
      "      requested:                 SSE4_1 SSE4_2 AVX FP16 AVX2 AVX512_SKX\n",
      "      SSE4_1 (16 files):         + SSSE3 SSE4_1\n",
      "      SSE4_2 (1 files):          + SSSE3 SSE4_1 POPCNT SSE4_2\n",
      "      FP16 (0 files):            + SSSE3 SSE4_1 POPCNT SSE4_2 FP16 AVX\n",
      "      AVX (4 files):             + SSSE3 SSE4_1 POPCNT SSE4_2 AVX\n",
      "      AVX2 (32 files):           + SSSE3 SSE4_1 POPCNT SSE4_2 FP16 FMA3 AVX AVX2\n",
      "\n",
      "  C/C++:\n",
      "    Built as dynamic libs?:      NO\n",
      "    C++ standard:                11\n",
      "    C++ Compiler:                C:/Program Files (x86)/Microsoft Visual Studio 14.0/VC/bin/x86_amd64/cl.exe  (ver 19.0.24245.0)\n",
      "    C++ flags (Release):         /DWIN32 /D_WINDOWS /W4 /GR  /D _CRT_SECURE_NO_DEPRECATE /D _CRT_NONSTDC_NO_DEPRECATE /D _SCL_SECURE_NO_WARNINGS /Gy /bigobj /Oi  /fp:precise     /EHa /wd4127 /wd4251 /wd4324 /wd4275 /wd4512 /wd4589 /wd4819 /MP  /MT /O2 /Ob2 /DNDEBUG \n",
      "    C++ flags (Debug):           /DWIN32 /D_WINDOWS /W4 /GR  /D _CRT_SECURE_NO_DEPRECATE /D _CRT_NONSTDC_NO_DEPRECATE /D _SCL_SECURE_NO_WARNINGS /Gy /bigobj /Oi  /fp:precise     /EHa /wd4127 /wd4251 /wd4324 /wd4275 /wd4512 /wd4589 /wd4819 /MP  /MTd /Zi /Ob0 /Od /RTC1 \n",
      "    C Compiler:                  C:/Program Files (x86)/Microsoft Visual Studio 14.0/VC/bin/x86_amd64/cl.exe\n",
      "    C flags (Release):           /DWIN32 /D_WINDOWS /W3  /D _CRT_SECURE_NO_DEPRECATE /D _CRT_NONSTDC_NO_DEPRECATE /D _SCL_SECURE_NO_WARNINGS /Gy /bigobj /Oi  /fp:precise     /MP   /MT /O2 /Ob2 /DNDEBUG \n",
      "    C flags (Debug):             /DWIN32 /D_WINDOWS /W3  /D _CRT_SECURE_NO_DEPRECATE /D _CRT_NONSTDC_NO_DEPRECATE /D _SCL_SECURE_NO_WARNINGS /Gy /bigobj /Oi  /fp:precise     /MP /MTd /Zi /Ob0 /Od /RTC1 \n",
      "    Linker flags (Release):      /machine:x64  /NODEFAULTLIB:atlthunk.lib /INCREMENTAL:NO  /NODEFAULTLIB:libcmtd.lib /NODEFAULTLIB:libcpmtd.lib /NODEFAULTLIB:msvcrtd.lib\n",
      "    Linker flags (Debug):        /machine:x64  /NODEFAULTLIB:atlthunk.lib /debug /INCREMENTAL  /NODEFAULTLIB:libcmt.lib /NODEFAULTLIB:libcpmt.lib /NODEFAULTLIB:msvcrt.lib\n",
      "    ccache:                      NO\n",
      "    Precompiled headers:         YES\n",
      "    Extra dependencies:          wsock32 comctl32 gdi32 ole32 setupapi ws2_32\n",
      "    3rdparty dependencies:       libprotobuf ade ittnotify libjpeg-turbo libwebp libpng libtiff libopenjp2 IlmImf zlib quirc ippiw ippicv\n",
      "\n",
      "  OpenCV modules:\n",
      "    To be built:                 calib3d core dnn features2d flann gapi highgui imgcodecs imgproc ml objdetect photo python3 stitching video videoio\n",
      "    Disabled:                    world\n",
      "    Disabled by dependency:      -\n",
      "    Unavailable:                 java python2 ts\n",
      "    Applications:                -\n",
      "    Documentation:               NO\n",
      "    Non-free algorithms:         NO\n",
      "\n",
      "  Windows RT support:            NO\n",
      "\n",
      "  GUI:                           WIN32UI\n",
      "    Win32 UI:                    YES\n",
      "    VTK support:                 NO\n",
      "\n",
      "  Media I/O: \n",
      "    ZLib:                        build (ver 1.2.13)\n",
      "    JPEG:                        build-libjpeg-turbo (ver 2.1.3-62)\n",
      "      SIMD Support Request:      YES\n",
      "      SIMD Support:              NO\n",
      "    WEBP:                        build (ver encoder: 0x020f)\n",
      "    PNG:                         build (ver 1.6.37)\n",
      "    TIFF:                        build (ver 42 - 4.2.0)\n",
      "    JPEG 2000:                   build (ver 2.4.0)\n",
      "    OpenEXR:                     build (ver 2.3.0)\n",
      "    HDR:                         YES\n",
      "    SUNRASTER:                   YES\n",
      "    PXM:                         YES\n",
      "    PFM:                         YES\n",
      "\n",
      "  Video I/O:\n",
      "    DC1394:                      NO\n",
      "    FFMPEG:                      YES (prebuilt binaries)\n",
      "      avcodec:                   YES (58.134.100)\n",
      "      avformat:                  YES (58.76.100)\n",
      "      avutil:                    YES (56.70.100)\n",
      "      swscale:                   YES (5.9.100)\n",
      "      avresample:                YES (4.0.0)\n",
      "    GStreamer:                   NO\n",
      "    DirectShow:                  YES\n",
      "    Media Foundation:            YES\n",
      "      DXVA:                      YES\n",
      "\n",
      "  Parallel framework:            Concurrency\n",
      "\n",
      "  Trace:                         YES (with Intel ITT)\n",
      "\n",
      "  Other third-party libraries:\n",
      "    Intel IPP:                   2020.0.0 Gold [2020.0.0]\n",
      "           at:                   D:/a/opencv-python/opencv-python/_skbuild/win-amd64-3.7/cmake-build/3rdparty/ippicv/ippicv_win/icv\n",
      "    Intel IPP IW:                sources (2020.0.0)\n",
      "              at:                D:/a/opencv-python/opencv-python/_skbuild/win-amd64-3.7/cmake-build/3rdparty/ippicv/ippicv_win/iw\n",
      "    Lapack:                      NO\n",
      "    Eigen:                       NO\n",
      "    Custom HAL:                  NO\n",
      "    Protobuf:                    build (3.19.1)\n",
      "\n",
      "  OpenCL:                        YES (NVD3D11)\n",
      "    Include path:                D:/a/opencv-python/opencv-python/opencv/3rdparty/include/opencl/1.2\n",
      "    Link libraries:              Dynamic load\n",
      "\n",
      "  Python 3:\n",
      "    Interpreter:                 C:/hostedtoolcache/windows/Python/3.7.9/x64/python.exe (ver 3.7.9)\n",
      "    Libraries:                   C:/hostedtoolcache/windows/Python/3.7.9/x64/libs/python37.lib (ver 3.7.9)\n",
      "    numpy:                       C:/hostedtoolcache/windows/Python/3.7.9/x64/lib/site-packages/numpy/core/include (ver 1.17.0)\n",
      "    install path:                python/cv2/python-3\n",
      "\n",
      "  Python (for build):            C:/ProgramData/chocolatey/bin/python2.7.exe\n",
      "\n",
      "  Java:                          \n",
      "    ant:                         NO\n",
      "    JNI:                         C:/hostedtoolcache/windows/Java_Temurin-Hotspot_jdk/8.0.362-9/x64/include C:/hostedtoolcache/windows/Java_Temurin-Hotspot_jdk/8.0.362-9/x64/include/win32 C:/hostedtoolcache/windows/Java_Temurin-Hotspot_jdk/8.0.362-9/x64/include\n",
      "    Java wrappers:               NO\n",
      "    Java tests:                  NO\n",
      "\n",
      "  Install to:                    D:/a/opencv-python/opencv-python/_skbuild/win-amd64-3.7/cmake-install\n",
      "-----------------------------------------------------------------\n",
      "\n",
      "\n"
     ]
    }
   ],
   "source": [
    "print(cv2.getBuildInformation())"
   ],
   "metadata": {
    "collapsed": false,
    "ExecuteTime": {
     "end_time": "2023-06-28T15:35:36.755302400Z",
     "start_time": "2023-06-28T15:35:36.738301700Z"
    }
   }
  }
 ],
 "metadata": {
  "kernelspec": {
   "display_name": "Python 3",
   "language": "python",
   "name": "python3"
  },
  "language_info": {
   "codemirror_mode": {
    "name": "ipython",
    "version": 2
   },
   "file_extension": ".py",
   "mimetype": "text/x-python",
   "name": "python",
   "nbconvert_exporter": "python",
   "pygments_lexer": "ipython2",
   "version": "2.7.6"
  }
 },
 "nbformat": 4,
 "nbformat_minor": 0
}
